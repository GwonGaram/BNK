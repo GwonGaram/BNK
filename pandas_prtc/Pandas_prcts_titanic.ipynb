{
 "cells": [
  {
   "cell_type": "code",
   "execution_count": null,
   "metadata": {},
   "outputs": [],
   "source": []
  }
 ],
 "metadata": {
  "interpreter": {
   "hash": "bb7c5b6335c4e4d5f1575cf7664fd6a71d3ee74b2a12f17264b5f5c6b0b2e531"
  },
  "kernelspec": {
   "display_name": "Python 3.7.11 ('bnk')",
   "language": "python",
   "name": "python3"
  },
  "language_info": {
   "name": "python",
   "version": "3.7.11"
  },
  "orig_nbformat": 4
 },
 "nbformat": 4,
 "nbformat_minor": 2
}
